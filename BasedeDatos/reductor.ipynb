{
 "cells": [
  {
   "cell_type": "code",
   "execution_count": 8,
   "metadata": {},
   "outputs": [],
   "source": [
    "import csv"
   ]
  },
  {
   "cell_type": "code",
   "execution_count": 9,
   "metadata": {},
   "outputs": [],
   "source": [
    "def copiar_filas_entre(archivo_csv, fila_inicio, fila_fin, nuevo_archivo_csv):\n",
    "    # Abrir el archivo CSV de entrada y el nuevo archivo CSV de salida\n",
    "    with open(archivo_csv, 'r') as file, open(nuevo_archivo_csv, 'w', newline='') as new_file:\n",
    "        reader = csv.reader(file)\n",
    "        writer = csv.writer(new_file)\n",
    "        \n",
    "        # Obtener el índice de la fila de inicio y de la fila de fin\n",
    "        indice_inicio = fila_inicio - 1  # Restamos 1 para tener el índice correcto\n",
    "        indice_fin = fila_fin\n",
    "        \n",
    "        # Leer todas las filas del archivo CSV de entrada en una lista\n",
    "        rows = list(reader)\n",
    "        \n",
    "        # Verificar si los índices están dentro del rango válido\n",
    "        if indice_inicio < 0 or indice_fin > len(rows):\n",
    "            print(\"Error: Los índices están fuera del rango válido.\")\n",
    "            return\n",
    "        \n",
    "        # Escribir la primera fila del archivo original\n",
    "        writer.writerow(rows[0])\n",
    "        \n",
    "        # Escribir las filas entre la fila de inicio y la fila de fin en el nuevo archivo CSV\n",
    "        writer.writerows(rows[indice_inicio:indice_fin])\n"
   ]
  },
  {
   "cell_type": "code",
   "execution_count": 10,
   "metadata": {},
   "outputs": [],
   "source": [
    "# Llamar a la función y especificar el nombre del archivo CSV de entrada, la fila de inicio, la fila de fin y el nombre del nuevo archivo CSV\n",
    "copiar_filas_entre('conjunto_de_datos_natalidad_2021_csv\\conjunto_de_datos\\conjunto_de_datos_natalidad_2021.csv'\n",
    "                   , 1596908, 1638640,\n",
    "                     'datos-sonora\\sonora-natalidad.csv')"
   ]
  },
  {
   "cell_type": "code",
   "execution_count": 11,
   "metadata": {},
   "outputs": [],
   "source": [
    "copiar_filas_entre('conjunto_de_datos_natalidad_2021_csv\\catalogos\\Catemlna21.csv', 34843, 35432, 'datos-sonora\\claves-sonora.csv')"
   ]
  }
 ],
 "metadata": {
  "kernelspec": {
   "display_name": "Python 3",
   "language": "python",
   "name": "python3"
  },
  "language_info": {
   "codemirror_mode": {
    "name": "ipython",
    "version": 3
   },
   "file_extension": ".py",
   "mimetype": "text/x-python",
   "name": "python",
   "nbconvert_exporter": "python",
   "pygments_lexer": "ipython3",
   "version": "3.11.0"
  },
  "orig_nbformat": 4
 },
 "nbformat": 4,
 "nbformat_minor": 2
}
