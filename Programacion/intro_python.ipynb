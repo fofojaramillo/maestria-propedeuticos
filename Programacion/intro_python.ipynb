{
  "cells": [
    {
      "attachments": {},
      "cell_type": "markdown",
      "metadata": {
        "id": "CUHpFdY0tew2"
      },
      "source": [
        "<a href=\"https://colab.research.google.com/github/mcd-unison/material-programacion/blob/main/intro-python.ipynb\" target=\"_parent\"><img src=\"https://colab.research.google.com/assets/colab-badge.svg\" alt=\"Open In Colab\"/></a>"
      ]
    },
    {
      "attachments": {},
      "cell_type": "markdown",
      "metadata": {
        "id": "Ux29egtUtew9"
      },
      "source": [
        "<center>\n",
        "<p><img src=\"https://mcd.unison.mx/wp-content/themes/awaken/img/logo_mcd.png\" width=\"100\">\n",
        "</p>\n",
        "\n",
        "\n",
        "\n",
        "# Curso Propedéutico en *Programación*\n",
        "\n",
        "## Introducción a `python` resolviendo preguntas\n",
        "\n",
        "\n",
        "<p> Julio Waissman Vilanova </p>\n",
        "<p>\n",
        "<img src=\"https://identidadbuho.unison.mx/wp-content/uploads/2019/06/letragrama-cmyk-72.jpg\" width=\"200\">\n",
        "</p>\n",
        "</center>\n",
        "\n"
      ]
    },
    {
      "attachments": {},
      "cell_type": "markdown",
      "metadata": {
        "id": "FliEpDuXtew_"
      },
      "source": [
        "### Tipos\n",
        "\n",
        "¿Cuales son los tipos de datos básicos? Revisa los tipos siguientes:\n",
        "\n",
        "1. Tipos numéricos `int`, `float`, `complex`\n",
        "2. Cadenas de caracteres\n",
        "3. Tuplas\n",
        "4. Listas\n",
        "5. Diccionarios\n",
        "6. Conjuntos\n",
        "\n",
        "Da ejemplo de sobrecarga de operadores (en particular `+` y `*`)\n",
        "\n"
      ]
    },
    {
      "cell_type": "code",
      "execution_count": 1,
      "metadata": {
        "id": "I2eMnkRptexA"
      },
      "outputs": [],
      "source": [
        "# Creo la clase Vector y defino la suma y multiplicación de vectores haciendo sobrecarga de operadores\n",
        "class Vector:\n",
        "    def __init__(self, x, y):\n",
        "        self.x = x\n",
        "        self.y = y\n",
        "    #sobre cargo la suma\n",
        "    def __add__(self, other):\n",
        "        if isinstance(other, Vector):\n",
        "            return Vector(self.x + other.x, self.y + other.y) \n",
        "        else:\n",
        "            raise TypeError(\"No se pudo, suma solo vector con vector\")\n",
        "    #sobre cargo la multiplicacion\n",
        "    def __mul__(self, other):\n",
        "        if isinstance(other, Vector):\n",
        "            return self.x * other.x + self.y * other.y  #producto escalar de vectores\n",
        "        elif isinstance(other, (int, float)):\n",
        "            return Vector(self.x * other, self.y * other)  #producto escalar de vector y escalar\n",
        "        else:\n",
        "            raise TypeError(\"No se pudo, seguro hiciste algo mal\")"
      ]
    },
    {
      "cell_type": "code",
      "execution_count": 2,
      "metadata": {},
      "outputs": [
        {
          "name": "stdout",
          "output_type": "stream",
          "text": [
            "Suma entre vectores\n",
            "3 , 8\n",
            "Producto vector-escalar\n",
            "10 , 15\n",
            "Producto punto\n",
            "17\n"
          ]
        }
      ],
      "source": [
        "#Test\n",
        "a = Vector(2,3)\n",
        "b = Vector(1,5)\n",
        "\n",
        "print(\"Suma entre vectores\")\n",
        "c = a + b\n",
        "print(c.x,\",\",c.y)\n",
        "\n",
        "print(\"Producto vector-escalar\")\n",
        "c = a * 5\n",
        "print(c.x,\",\",c.y)\n",
        "\n",
        "print(\"Producto punto\")\n",
        "c = a * b\n",
        "print(c)"
      ]
    },
    {
      "attachments": {},
      "cell_type": "markdown",
      "metadata": {
        "id": "YWcSt48vtexD"
      },
      "source": [
        "¿Que significa que unos tipos sean *mutables* y otros *inmutables*? \n",
        "\n",
        "Realiza un pequeño programa donde quede claro lo que significa que un tipo de datos sea mutable, e ilustra el uso del método `copy.deepcopy()`. "
      ]
    },
    {
      "cell_type": "code",
      "execution_count": null,
      "metadata": {
        "id": "qt7b8So4texF"
      },
      "outputs": [],
      "source": []
    },
    {
      "attachments": {},
      "cell_type": "markdown",
      "metadata": {
        "id": "7fYtkcC4texG"
      },
      "source": [
        "### *Comprehension* de listas, conjuntos y diccionarios \n",
        "\n",
        "Escribe, en una sola linea, una expresión que genere una lista con todos los números enteros que se encuentran entre $1$ y $n$ \n",
        "que sean divisibles por $2$, $3$ y $7$ y que el dígito menos significativo del número sea $2$."
      ]
    },
    {
      "cell_type": "code",
      "execution_count": 3,
      "metadata": {
        "id": "QRXVh94DtexI"
      },
      "outputs": [
        {
          "name": "stdout",
          "output_type": "stream",
          "text": [
            "[42, 252, 462, 672, 882, 1092, 1302, 1512, 1722, 1932, 2142, 2352, 2562, 2772, 2982, 3192, 3402, 3612, 3822, 4032, 4242, 4452, 4662, 4872, 5082, 5292, 5502, 5712, 5922, 6132, 6342, 6552, 6762, 6972, 7182, 7392, 7602, 7812, 8022, 8232, 8442, 8652, 8862, 9072, 9282, 9492, 9702, 9912]\n"
          ]
        }
      ],
      "source": [
        "n = 10_000\n",
        "\n",
        "# Escribe aqui el *one linner*\n",
        "\n",
        "nums = [x for x in range(n+1) if x%2 == 0 and x%3 == 0 and x%7 == 0 and x%10 == 2]\n",
        "\n",
        "print(nums)\n"
      ]
    },
    {
      "attachments": {},
      "cell_type": "markdown",
      "metadata": {
        "id": "sfeqs0P8texK"
      },
      "source": [
        "### Funciones\n",
        "\n",
        "Escribe una función que:\n",
        "\n",
        "1. reciba una lista de elementos (letras, números, lo que sea), \n",
        "2. cuente la ocurrencia de cada elemento en la lista, \n",
        "3. devuelva las ocurrencias en forma de diccionario,\n",
        "4. si imprime es True, imprima un histograma de ocurrencias, por ejemplo:\n",
        "\n",
        "```python\n",
        "\n",
        "lista = [1,'a',1, 13, 'hola', 'a', 1, 1, 'a', 1]\n",
        "\n",
        "d = funcion_ejemplo(lista, imprime = True)\n",
        "\n",
        "1    \t\t***** \t(5 -> 50%)\n",
        "'a'  \t\t***   \t(3 -> 30%)\n",
        "13\t\t*\t(1 -> 10%)\n",
        "'hola'\t\t*\t(1 -> 10%)\n",
        "\n",
        "```"
      ]
    },
    {
      "cell_type": "code",
      "execution_count": 4,
      "metadata": {
        "id": "CwHumJ0YtexL"
      },
      "outputs": [],
      "source": [
        "# Escribe la función aquí\n",
        "def funcion_ejemplo(lista, imprime = False):\n",
        "    conjunto = set(lista)\n",
        "    dict_ocurrencias = {}\n",
        "    for item in conjunto:\n",
        "        dict_ocurrencias[item] = lista.count(item)\n",
        "\n",
        "    if imprime:\n",
        "        for item in dict_ocurrencias:\n",
        "            frecuencia = dict_ocurrencias[item]\n",
        "            porcentaje = frecuencia/len(lista) * 100\n",
        "            barra = '*' * int(porcentaje / 10)\n",
        "\n",
        "            print(f\"{item}\\t\\t{barra}\\t({frecuencia} -> {porcentaje:.2f}%)\")\n",
        "    return dict_ocurrencias\n"
      ]
    },
    {
      "cell_type": "code",
      "execution_count": 5,
      "metadata": {
        "id": "nXTYNHdhtexM"
      },
      "outputs": [
        {
          "name": "stdout",
          "output_type": "stream",
          "text": [
            "1\t\t*****\t(5 -> 50.00%)\n",
            "a\t\t***\t(3 -> 30.00%)\n",
            "13\t\t*\t(1 -> 10.00%)\n",
            "hola\t\t*\t(1 -> 10.00%)\n",
            "{1: 5, 'a': 3, 13: 1, 'hola': 1}\n"
          ]
        }
      ],
      "source": [
        "# Realiza pruebas aquí\n",
        "lista = [1,'a',1, 13, 'hola', 'a', 1, 1, 'a', 1]\n",
        "d = funcion_ejemplo(lista, imprime = True)\n",
        "print(d)"
      ]
    },
    {
      "attachments": {},
      "cell_type": "markdown",
      "metadata": {
        "id": "0TvwcmBatexN"
      },
      "source": [
        "Escribe una función que modifique un diccionario y regrese el diccionario modificado y una copia del original, donde cada entrada \n",
        "del diccionario sea una lista de valores. Ten en cuenta que si una entrada del diccionario es de tipo mutable, al modificarlo en la\n",
        "copia se modifica el original. Utiliza el modulo `copy` para evitar este problema. Ejemplo de la función:\n",
        "\n",
        "```python\n",
        "dic1 = {'Pepe':[12, 'enero', 1980], 'Carolina':[15,'mayo',1975],'Paco':[10,'nov',1970]}\n",
        "dic2 = fundicos(dic1, 'Pepe', 1, 'febrero')\n",
        "\n",
        "print(dic1) \n",
        "{'Pepe':[12, 'enero', 1980], 'Carolina':[15,'mayo',1975],'Paco':[10,'nov',1970]}\n",
        "\n",
        "print(dic2) \n",
        "{'Pepe':[12, 'febrero', 1980], 'Carolina':[15,'mayo',1975],'Paco':[10,'nov',1970]}\n",
        "```"
      ]
    },
    {
      "cell_type": "code",
      "execution_count": 6,
      "metadata": {
        "id": "lVoCkV2gtexO"
      },
      "outputs": [],
      "source": [
        "import copy\n",
        "\n",
        "def fundicos(dict, name, index, new):\n",
        "    dict_copy = copy.deepcopy(dict)\n",
        "    \n",
        "    if name in dict_copy:\n",
        "        if isinstance(dict_copy[name], list):\n",
        "            dict_copy[name][index] = new\n",
        "    \n",
        "    return dict_copy\n"
      ]
    },
    {
      "cell_type": "code",
      "execution_count": 7,
      "metadata": {
        "id": "PJXV4vUktexO"
      },
      "outputs": [
        {
          "name": "stdout",
          "output_type": "stream",
          "text": [
            "{'Pepe': [12, 'enero', 1980], 'Carolina': [15, 'mayo', 1975], 'Paco': [10, 'nov', 1970]}\n",
            "{'Pepe': [12, 'febrero', 1980], 'Carolina': [15, 'mayo', 1975], 'Paco': [10, 'nov', 1970]}\n"
          ]
        }
      ],
      "source": [
        "# Realiza pruebas de fundicos aquí\n",
        "dic1 = {'Pepe':[12, 'enero', 1980], 'Carolina':[15,'mayo',1975],'Paco':[10,'nov',1970]}\n",
        "dic2 = fundicos(dic1, 'Pepe', 1, 'febrero')\n",
        "\n",
        "print(dic1) \n",
        "print(dic2) "
      ]
    },
    {
      "attachments": {},
      "cell_type": "markdown",
      "metadata": {
        "id": "262f0TaEtexP"
      },
      "source": [
        "### Generadores\n",
        "\n",
        "Escribe una función `fun1` que reciba un número $n$ y calcule el número primo inmediatamente inferior. \n",
        "\n",
        "Escribe una función `fun2` que reciba como argumento un numero y una función, y devuelva una lista con la evaluación de la función desde $1$ hasta $n$. \n",
        "\n",
        "Prueba `fun2` con `fun1` y con `math.sqrt`. "
      ]
    },
    {
      "cell_type": "code",
      "execution_count": 8,
      "metadata": {
        "id": "98kSI4wetexP"
      },
      "outputs": [],
      "source": [
        "# Escribe aqui fun1\n",
        "def fun1(n):\n",
        "    def es_primo(n):\n",
        "        if n < 2:\n",
        "            return False\n",
        "        for i in range(2, int(n ** 0.5) + 1): #Reducí el rango de busqueda\n",
        "            if n % i == 0:\n",
        "                return False\n",
        "        return True\n",
        "    \n",
        "    def primos_anteriores(n):\n",
        "        if n <= 2:\n",
        "            yield None\n",
        "        i = n-1\n",
        "        while True:\n",
        "            if es_primo(i):\n",
        "                yield i\n",
        "            i -= 1\n",
        "    return next(primos_anteriores(n))\n"
      ]
    },
    {
      "cell_type": "code",
      "execution_count": 9,
      "metadata": {
        "id": "U1iEwR69texQ"
      },
      "outputs": [
        {
          "name": "stdout",
          "output_type": "stream",
          "text": [
            "13\n"
          ]
        }
      ],
      "source": [
        "# Realiza pruebas de fun1 aqui\n",
        "print(fun1(15))"
      ]
    },
    {
      "cell_type": "code",
      "execution_count": 10,
      "metadata": {
        "id": "AmQv3SyBtexR"
      },
      "outputs": [],
      "source": [
        "# Escribe fun2 aquí\n",
        "def fun2(n, func):\n",
        "    return [func(i) for i in range(1,n)]\n"
      ]
    },
    {
      "cell_type": "code",
      "execution_count": 11,
      "metadata": {},
      "outputs": [],
      "source": [
        "import math"
      ]
    },
    {
      "cell_type": "code",
      "execution_count": 12,
      "metadata": {
        "id": "DgC2HgpZtexR"
      },
      "outputs": [
        {
          "data": {
            "text/plain": [
              "[None, None, 2, 3, 3, 5, 5, 7, 7, 7, 7, 11, 11, 13]"
            ]
          },
          "execution_count": 12,
          "metadata": {},
          "output_type": "execute_result"
        }
      ],
      "source": [
        "# Realiza pruebas de fun2 aquí\n",
        "fun2(15,math.sqrt)\n",
        "fun2(15,fun1)"
      ]
    },
    {
      "attachments": {},
      "cell_type": "markdown",
      "metadata": {
        "id": "wMfF-YY-texS"
      },
      "source": [
        "Escribe una función, lo más compacta posible, que escoja entre los 3 patrones ascii a continuación, e imprima en pantalla \n",
        "el deseado, pero de dimensión $n$ ($n \\ge 4$), toma en cuanta que para algunos valores de $n$ habrá \n",
        "algún(os) patrones que no se puedan hacer.\n",
        "\n",
        "```\n",
        "          *             ++++           oooooooo\n",
        "          **            ++++           ooo  ooo\n",
        "          ***           ++++           oo    oo\n",
        "          ****          ++++           o      o\n",
        "          *****             ++++       o      o\n",
        "          ******            ++++       oo    oo\n",
        "          *******           ++++       ooo  ooo\n",
        "          ********          ++++       oooooooo\n",
        "\n",
        "```"
      ]
    },
    {
      "attachments": {},
      "cell_type": "markdown",
      "metadata": {},
      "source": [
        "Aquí interpreto que todos los patrones son cuadrados de n caracteres por lado a los que les falta algo. Entonces, por ejemplo, el patrón de en medio no podría hacerse con n impar. El patrón de \"rombo faltante\" sí podria hacerse con n impar, solo que, creo yo, habría que considerarse dos casos; par e impar. Solo implementé el caso par."
      ]
    },
    {
      "cell_type": "code",
      "execution_count": 13,
      "metadata": {
        "id": "3GXksL32texS"
      },
      "outputs": [],
      "source": [
        "# Escribe aquí la función\n",
        "def dibujo(n, draw):\n",
        "    '''\n",
        "    Hay tres patrones a elegir, pero no todos los valores de n son validos.\n",
        "    n tiene que ser mayor a cuatro para todos.\n",
        "    'triangulo' acepta todo n>=4\n",
        "    'cuadrados' solo valores pares\n",
        "    'rombo' solo valores pares\n",
        "    '''\n",
        "    if n < 4:\n",
        "        raise ValueError('Solo n >= 4')\n",
        "    if draw == 'triangulo':\n",
        "        for i in range(1,n+1):\n",
        "            print('*'*i)\n",
        "\n",
        "    if draw == 'cuadrados':\n",
        "        if n%2 != 0:\n",
        "            raise ValueError('Este patron solo se puede hacer con numeros pares')\n",
        "        factor = int(n/2)\n",
        "        for i in range(1,n+1):\n",
        "            line = '+'*factor + ' '*factor\n",
        "            if i <= factor:\n",
        "                print(line)\n",
        "            if i > factor:\n",
        "                print(line[::-1])\n",
        "    \n",
        "    if draw == 'rombo':\n",
        "        if n%2 != 0:\n",
        "            raise ValueError('Este patron solo esta implementado para numeros pares')\n",
        "        factor = int(n/2)\n",
        "        for i in range(factor):\n",
        "            line = 'o'*factor + ' '*i\n",
        "            print(line + line[::-1])\n",
        "            factor -= 1\n",
        "        factor = int(n/2)\n",
        "        for i in range(1,factor+1):\n",
        "            line = 'o'*i + ' '*(factor-1)\n",
        "            print(line + line[::-1])\n",
        "            factor -= 1\n",
        "            \n"
      ]
    },
    {
      "cell_type": "code",
      "execution_count": 14,
      "metadata": {
        "id": "oDyPcWJatexT"
      },
      "outputs": [
        {
          "name": "stdout",
          "output_type": "stream",
          "text": [
            "++++    \n",
            "++++    \n",
            "++++    \n",
            "++++    \n",
            "    ++++\n",
            "    ++++\n",
            "    ++++\n",
            "    ++++\n"
          ]
        }
      ],
      "source": [
        "#Realiza pruebas aquí\n",
        "dibujo(8, draw='cuadrados')"
      ]
    },
    {
      "attachments": {},
      "cell_type": "markdown",
      "metadata": {
        "id": "BPPnPZoftexT"
      },
      "source": [
        "### Clases y objetos\n",
        "\n",
        "Diseña una clase Matriz con las siguientes características:\n",
        "\n",
        "1. Como inicialización de un objeto es necesario conocer $n$, $m$ y tipo. En caso de no proporcionar $m$ la matriz se asume cuadrada de $n \\times n$. En caso de no proporcionar $n$ la matriz tendrá una dimensión de $1 \\times 1$. \n",
        "2. De no especificarse todos los elementos se inicializan a 0, a menos que exista un tipo especial ( `unos` o `diag` por el momento).\n",
        "3. Implementa con sobrecarga la suma de matrices, la multiplicación de matrices y la multiplicación por un escalar.\n",
        "4. Implementa como métodos eliminar columna y eliminar fila.   \n",
        "5. Programa la representación visual de la matriz. \n",
        "6. Ten en cuenta tambien el manejo de errores. \n",
        "\n",
        "\n",
        "Ejemplo de uso:\n",
        "\n",
        "```\n",
        ">>> A = Matriz(n=3, m=4)\n",
        "\n",
        ">>> print(A)\n",
        "0 0 0 0\n",
        "0 0 0 0\n",
        "0 0 0 0\n",
        "\n",
        ">>> A = A.quitafila(2)\n",
        "\n",
        ">>> print(A)\n",
        "0 0 0 0\n",
        "0 0 0 0\n",
        "\n",
        ">>> B = Matriz(4,4,'diag')\n",
        "\n",
        ">>> print(B)\n",
        "1 0 0 0\n",
        "0 1 0 0\n",
        "0 0 1 0\n",
        "0 0 0 1\n",
        "\n",
        ">>> C = Matriz(4,1,'unos')\n",
        "\n",
        ">>> print(C)\n",
        "1\n",
        "1\n",
        "1\n",
        "1\n",
        "\n",
        ">>> D = 3 * B * C\n",
        "\n",
        ">>> print(D)\n",
        "3\n",
        "3\n",
        "3\n",
        "3\n",
        "\n",
        ">>> E = 3 * B + C\n",
        "error \"No seas menso, si no son de la misma dimensión las matrices no se pueden sumar\"\n",
        "```"
      ]
    },
    {
      "cell_type": "code",
      "execution_count": 15,
      "metadata": {
        "id": "pJ9xdVZ3texU"
      },
      "outputs": [],
      "source": [
        "# Desarrolla aqui la clase\n",
        "class Matriz:\n",
        "    def __init__(self, n=1, m=1, tipo = None):\n",
        "        self.n = n\n",
        "        self.m = m\n",
        "        self.tipo = tipo\n",
        "        self.matriz = self.build_matrix()\n",
        "\n",
        "    def build_matrix(self):\n",
        "        matrix = [[0]*self.m for _ in range(n)]\n",
        "        if self.tipo == 'unos':\n",
        "            matrix = [[1]*self.m for _ in range(self.n)]\n",
        "        elif self.tipo == 'diag':\n",
        "            min_dim = min(self.n, self.m)\n",
        "            for i in range(min_dim):\n",
        "                matrix[i][i] = 1\n",
        "        return matrix\n",
        "    \n",
        "    def __str__(self):\n",
        "        return '\\n'.join(str(self.matriz[i]) for i in range(self.n))    \n",
        "    \n",
        "    def __add__(self, other):\n",
        "        if isinstance(other, Matriz):\n",
        "            if self.n != other.n or self.m != other.m:\n",
        "                raise ValueError(\"Las matrices de diferentes dimensiones no se pueden sumar\")\n",
        "            suma = Matriz(self.n, self.m)\n",
        "            suma.matriz = [self.matriz[i][j] + other.matriz[i][j] for j in range(self.m) for i in range(self.n)]\n",
        "            return suma\n",
        "        else:\n",
        "            raise TypeError(\"Una matriz no se puede sumar con algo que no sea matriz\")\n",
        "    \n",
        "    def __mul__(self, other):\n",
        "        if isinstance(other, Matriz):\n",
        "            if self.m != other.n:\n",
        "                raise ValueError(\"La cantidad de columnas de la primera matriz debe ser igual a la cantidad de filas de la segunda matriz\")\n",
        "            producto = Matriz(self.n, other.m)\n",
        "            for i in range(self.n):\n",
        "                for j in range(other.m):\n",
        "                    for k in range(self.m):\n",
        "                        producto[i][j] += self.matriz[i][k] * other.matriz[k][j]\n",
        "            return producto\n",
        "        if isinstance(other, int) or isinstance(other, float):\n",
        "            producto = Matriz(self.n, self.m)\n",
        "            producto = [[item * other for item in fila] for fila in self.matriz]\n",
        "            return producto\n",
        "        \n",
        "    def quitafila(self, fila):\n",
        "        if fila < 0 or fila >= self.n:\n",
        "            raise IndexError(\"Indice de fila fuera de rango.\")\n",
        "        resultado = Matriz(self.n - 1, self.m)\n",
        "        resultado.matriz = self.matriz[:fila] + self.matriz[fila+1:]\n",
        "        return resultado\n",
        "\n",
        "    def quitacolumna(self, columa):\n",
        "        if columa < 0 or columa >= self.m:\n",
        "            raise IndexError(\"Indice de columna fuera de rango.\")\n",
        "        resultado = Matriz(self.n, self.m - 1)\n",
        "        resultado.matriz = [[fila[i] for i in range(self.m) if i != columa] for fila in self.matriz]\n",
        "        return resultado\n",
        "\n",
        "\n"
      ]
    },
    {
      "cell_type": "code",
      "execution_count": 16,
      "metadata": {
        "id": "LDnFN8TdtexU"
      },
      "outputs": [
        {
          "name": "stdout",
          "output_type": "stream",
          "text": [
            "A = [0, 0, 0, 0]\n",
            "[0, 0, 0, 0]\n",
            "[0, 0, 0, 0]\n",
            "A =  [0, 0, 0, 0]\n",
            "[0, 0, 0, 0]\n",
            "B =  [1, 0, 0, 0]\n",
            "[0, 1, 0, 0]\n",
            "[0, 0, 1, 0]\n",
            "[0, 0, 0, 1]\n",
            "C = [1]\n",
            "[1]\n",
            "[1]\n",
            "[1]\n"
          ]
        },
        {
          "ename": "TypeError",
          "evalue": "can't multiply sequence by non-int of type 'Matriz'",
          "output_type": "error",
          "traceback": [
            "\u001b[1;31m---------------------------------------------------------------------------\u001b[0m",
            "\u001b[1;31mTypeError\u001b[0m                                 Traceback (most recent call last)",
            "Cell \u001b[1;32mIn[16], line 15\u001b[0m\n\u001b[0;32m     12\u001b[0m C \u001b[39m=\u001b[39m Matriz(\u001b[39m4\u001b[39m,\u001b[39m1\u001b[39m,\u001b[39m'\u001b[39m\u001b[39munos\u001b[39m\u001b[39m'\u001b[39m)\n\u001b[0;32m     13\u001b[0m \u001b[39mprint\u001b[39m(\u001b[39m'\u001b[39m\u001b[39mC =\u001b[39m\u001b[39m'\u001b[39m, C)\n\u001b[1;32m---> 15\u001b[0m D \u001b[39m=\u001b[39m  (B \u001b[39m*\u001b[39;49m \u001b[39m3\u001b[39;49m) \u001b[39m*\u001b[39;49m C\n\u001b[0;32m     16\u001b[0m \u001b[39mprint\u001b[39m(\u001b[39m'\u001b[39m\u001b[39mD = \u001b[39m\u001b[39m'\u001b[39m, D)\n\u001b[0;32m     18\u001b[0m E \u001b[39m=\u001b[39m (B \u001b[39m*\u001b[39m \u001b[39m3\u001b[39m) \u001b[39m+\u001b[39m C\n",
            "\u001b[1;31mTypeError\u001b[0m: can't multiply sequence by non-int of type 'Matriz'"
          ]
        }
      ],
      "source": [
        "# Realiza las pruebas a la clase aquí\n",
        "\n",
        "A = Matriz(n=3, m=4)\n",
        "print('A =', A)\n",
        "\n",
        "A = A.quitafila(2)\n",
        "print('A = ', A)\n",
        "\n",
        "B = Matriz(4,4,'diag')\n",
        "print('B = ', B)\n",
        "\n",
        "C = Matriz(4,1,'unos')\n",
        "print('C =', C)\n",
        "\n",
        "D =  (B * 3) * C\n",
        "print('D = ', D)\n",
        "\n",
        "E = (B * 3) + C\n",
        "print('E = ', E)"
      ]
    }
  ],
  "metadata": {
    "colab": {
      "provenance": []
    },
    "kernelspec": {
      "display_name": "ing-caract",
      "language": "python",
      "name": "python3"
    },
    "language_info": {
      "codemirror_mode": {
        "name": "ipython",
        "version": 3
      },
      "file_extension": ".py",
      "mimetype": "text/x-python",
      "name": "python",
      "nbconvert_exporter": "python",
      "pygments_lexer": "ipython3",
      "version": "3.11.0"
    },
    "orig_nbformat": 4
  },
  "nbformat": 4,
  "nbformat_minor": 0
}
